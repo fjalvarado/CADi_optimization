{
  "nbformat": 4,
  "nbformat_minor": 0,
  "metadata": {
    "colab": {
      "provenance": [],
      "authorship_tag": "ABX9TyPmLoctHBjSfXHFEWnbxsdD",
      "include_colab_link": true
    },
    "kernelspec": {
      "name": "python3",
      "display_name": "Python 3"
    },
    "language_info": {
      "name": "python"
    }
  },
  "cells": [
    {
      "cell_type": "markdown",
      "metadata": {
        "id": "view-in-github",
        "colab_type": "text"
      },
      "source": [
        "<a href=\"https://colab.research.google.com/github/fjalvarado/CADi_optimization/blob/main/simple_IP_problem.ipynb\" target=\"_parent\"><img src=\"https://colab.research.google.com/assets/colab-badge.svg\" alt=\"Open In Colab\"/></a>"
      ]
    },
    {
      "cell_type": "code",
      "execution_count": 3,
      "metadata": {
        "colab": {
          "base_uri": "https://localhost:8080/"
        },
        "id": "lz0VJ4BSq6MA",
        "outputId": "3ca2c362-0074-45a8-b814-0830872e7fa8"
      },
      "outputs": [
        {
          "output_type": "stream",
          "name": "stdout",
          "text": [
            "/content/drive/My Drive/Colab Notebooks/CADi\n"
          ]
        }
      ],
      "source": [
        "!pwd"
      ]
    },
    {
      "cell_type": "code",
      "source": [
        "# Mount Google Drive\n",
        "from google.colab import drive\n",
        "drive.mount('/content/drive')\n",
        "# Change directory\n",
        "import os\n",
        "os.chdir(\"/content/drive/My Drive/Colab Notebooks/CADi\")\n",
        "!pwd"
      ],
      "metadata": {
        "colab": {
          "base_uri": "https://localhost:8080/"
        },
        "id": "E0EuoAEIq7hF",
        "outputId": "7cdf8416-608f-4909-e3db-e6cc8182accb"
      },
      "execution_count": 4,
      "outputs": [
        {
          "output_type": "stream",
          "name": "stdout",
          "text": [
            "Drive already mounted at /content/drive; to attempt to forcibly remount, call drive.mount(\"/content/drive\", force_remount=True).\n",
            "/content/drive/My Drive/Colab Notebooks/CADi\n"
          ]
        }
      ]
    },
    {
      "cell_type": "code",
      "source": [
        "# pip install for a limited license of the Gurobi callable library\n",
        "%pip install gurobipy"
      ],
      "metadata": {
        "id": "0N1CQjbfq__t",
        "colab": {
          "base_uri": "https://localhost:8080/"
        },
        "outputId": "480a53fb-79a8-4ec2-b3b1-9230a23fa2da"
      },
      "execution_count": 5,
      "outputs": [
        {
          "output_type": "stream",
          "name": "stdout",
          "text": [
            "Looking in indexes: https://pypi.org/simple, https://us-python.pkg.dev/colab-wheels/public/simple/\n",
            "Collecting gurobipy\n",
            "  Downloading gurobipy-10.0.2-cp310-cp310-manylinux2014_x86_64.whl (12.7 MB)\n",
            "\u001b[2K     \u001b[90m━━━━━━━━━━━━━━━━━━━━━━━━━━━━━━━━━━━━━━━━\u001b[0m \u001b[32m12.7/12.7 MB\u001b[0m \u001b[31m48.4 MB/s\u001b[0m eta \u001b[36m0:00:00\u001b[0m\n",
            "\u001b[?25hInstalling collected packages: gurobipy\n",
            "Successfully installed gurobipy-10.0.2\n"
          ]
        }
      ]
    },
    {
      "cell_type": "markdown",
      "source": [
        "# Simple Integer Linear Programming Problem\n",
        "\n",
        "$$\n",
        "\\text{Max}\\quad x+y+2z\n",
        "$$\n",
        "subject to\n",
        "$$\n",
        "x+2y+3z<=4\\\\\n",
        "x+y>=1\n",
        "$$\n"
      ],
      "metadata": {
        "id": "ECvHersz_N8b"
      }
    },
    {
      "cell_type": "code",
      "source": [
        "import gurobipy as gp\n",
        "from gurobipy import GRB"
      ],
      "metadata": {
        "id": "UvkSO9AD_JHX"
      },
      "execution_count": 6,
      "outputs": []
    },
    {
      "cell_type": "code",
      "source": [
        "# Create the model m\n",
        "m = gp.Model(\"example\")"
      ],
      "metadata": {
        "colab": {
          "base_uri": "https://localhost:8080/"
        },
        "id": "bt1g6u-y_uNn",
        "outputId": "502febb2-e036-4b9e-d868-a40b48c53038"
      },
      "execution_count": 7,
      "outputs": [
        {
          "output_type": "stream",
          "name": "stdout",
          "text": [
            "Restricted license - for non-production use only - expires 2024-10-28\n"
          ]
        }
      ]
    },
    {
      "cell_type": "code",
      "source": [
        "# Create decision variables\n",
        "x = m.addVar(vtype=GRB.BINARY, name=\"x\")\n",
        "y = m.addVar(vtype=GRB.BINARY, name=\"y\")\n",
        "z = m.addVar(vtype=GRB.BINARY, name=\"z\")"
      ],
      "metadata": {
        "id": "JIoyOd4MABBP"
      },
      "execution_count": 8,
      "outputs": []
    },
    {
      "cell_type": "code",
      "source": [
        "# Objective function\n",
        "m.setObjective(x+y+2*z,GRB.MAXIMIZE)"
      ],
      "metadata": {
        "id": "arngJ25vANij"
      },
      "execution_count": 9,
      "outputs": []
    },
    {
      "cell_type": "code",
      "source": [
        "# Constraints\n",
        "c1 = m.addConstr(x+2*y+3*z <= 4, name=\"c1\")\n",
        "c2 = m.addConstr(x+y >= 1, name=\"c2\")"
      ],
      "metadata": {
        "id": "8homAVKOATgw"
      },
      "execution_count": 10,
      "outputs": []
    },
    {
      "cell_type": "code",
      "source": [
        "# save model for inspection\n",
        "m.write('example.lp')"
      ],
      "metadata": {
        "id": "KPIGdfXwAnPD"
      },
      "execution_count": 11,
      "outputs": []
    },
    {
      "cell_type": "code",
      "source": [
        "# run optimization engine\n",
        "m.optimize()"
      ],
      "metadata": {
        "colab": {
          "base_uri": "https://localhost:8080/"
        },
        "id": "9r4Awhh_A3rp",
        "outputId": "d6769e0d-83b7-4ba8-be3e-a8224ce11e0d"
      },
      "execution_count": 12,
      "outputs": [
        {
          "output_type": "stream",
          "name": "stdout",
          "text": [
            "Gurobi Optimizer version 10.0.2 build v10.0.2rc0 (linux64)\n",
            "\n",
            "CPU model: Intel(R) Xeon(R) CPU @ 2.20GHz, instruction set [SSE2|AVX|AVX2]\n",
            "Thread count: 1 physical cores, 2 logical processors, using up to 2 threads\n",
            "\n",
            "Optimize a model with 2 rows, 3 columns and 5 nonzeros\n",
            "Model fingerprint: 0x98886187\n",
            "Variable types: 0 continuous, 3 integer (3 binary)\n",
            "Coefficient statistics:\n",
            "  Matrix range     [1e+00, 3e+00]\n",
            "  Objective range  [1e+00, 2e+00]\n",
            "  Bounds range     [1e+00, 1e+00]\n",
            "  RHS range        [1e+00, 4e+00]\n",
            "Found heuristic solution: objective 2.0000000\n",
            "Presolve removed 2 rows and 3 columns\n",
            "Presolve time: 0.00s\n",
            "Presolve: All rows and columns removed\n",
            "\n",
            "Explored 0 nodes (0 simplex iterations) in 0.02 seconds (0.00 work units)\n",
            "Thread count was 1 (of 2 available processors)\n",
            "\n",
            "Solution count 2: 3 2 \n",
            "\n",
            "Optimal solution found (tolerance 1.00e-04)\n",
            "Best objective 3.000000000000e+00, best bound 3.000000000000e+00, gap 0.0000%\n"
          ]
        }
      ]
    },
    {
      "cell_type": "code",
      "source": [
        "# display optimal solution\n",
        "for v in m.getVars():\n",
        "    print(v.varName,v.x)\n",
        "\n",
        "print(f\"\\nOptimal objective function value: {m.objVal:,}\")"
      ],
      "metadata": {
        "colab": {
          "base_uri": "https://localhost:8080/"
        },
        "id": "okZ1J9KwA7LM",
        "outputId": "dcdd9985-b0cc-4cd2-ae75-fe2e3009a895"
      },
      "execution_count": 15,
      "outputs": [
        {
          "output_type": "stream",
          "name": "stdout",
          "text": [
            "x 1.0\n",
            "y 0.0\n",
            "z 1.0\n",
            "\n",
            "Optimal objective function value: 3.0\n"
          ]
        }
      ]
    },
    {
      "cell_type": "markdown",
      "source": [
        "## The Furniture Problem"
      ],
      "metadata": {
        "id": "ABL8Mz-5CYbV"
      }
    },
    {
      "cell_type": "code",
      "source": [
        "furn = gp.Model(\"furniture\")\n",
        "x1 = furn.addVar(name=\"chairs\")\n",
        "x2 = furn.addVar(name=\"tables\")\n",
        "furn.setObjective(45*x1+80*x2,GRB.MAXIMIZE)\n",
        "mahogany = furn.addConstr(5*x1+20*x2 <= 400, name=\"mahogany\")\n",
        "labor = furn.addConstr(10*x1+15*x2 <= 450, name=\"labor\")\n",
        "furn.write('furniture.lp')"
      ],
      "metadata": {
        "id": "V9Y-ob0IBc_E"
      },
      "execution_count": 21,
      "outputs": []
    },
    {
      "cell_type": "markdown",
      "source": [
        "![Screenshot_20230626_130549.png](data:image/png;base64,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)"
      ],
      "metadata": {
        "id": "D3UIw06IGEFQ"
      }
    },
    {
      "cell_type": "code",
      "source": [
        "for v in furn.getVars():\n",
        "    print(v.varName,dir(v))\n",
        "\n",
        "#print(f\"\\nOptimal total revenue: ${furn.objVal:,}\")"
      ],
      "metadata": {
        "colab": {
          "base_uri": "https://localhost:8080/"
        },
        "id": "xIUP36lKFzoP",
        "outputId": "d475fe4d-f904-4b08-a7c9-c6f1d751c81a"
      },
      "execution_count": 25,
      "outputs": [
        {
          "output_type": "stream",
          "name": "stdout",
          "text": [
            "chairs ['BarX', 'BranchPriority', 'IISLB', 'IISLBForce', 'IISUB', 'IISUBForce', 'LB', 'Obj', 'ObjN', 'PStart', 'PWLObjCvx', 'Partition', 'PoolIgnore', 'PreFixVal', 'RC', 'SALBLow', 'SALBUp', 'SAObjLow', 'SAObjUp', 'SAUBLow', 'SAUBUp', 'ScenNLB', 'ScenNObj', 'ScenNUB', 'ScenNX', 'Start', 'UB', 'UnbdRay', 'VBasis', 'VDualNorm', 'VTag', 'VType', 'VarHintPri', 'VarHintVal', 'VarName', 'VarPreStat', 'X', 'Xn', '__add__', '__cindex__', '__class__', '__delattr__', '__dict__', '__dir__', '__div__', '__doc__', '__eq__', '__format__', '__ge__', '__getattr__', '__getattribute__', '__gt__', '__hash__', '__iadd__', '__imul__', '__init__', '__init_subclass__', '__isub__', '__le__', '__lt__', '__module__', '__mul__', '__ne__', '__neg__', '__new__', '__numcols__', '__pow__', '__radd__', '__reduce__', '__reduce_ex__', '__repr__', '__rmul__', '__rsub__', '__setattr__', '__sizeof__', '__str__', '__sub__', '__subclasshook__', '__truediv__', '__weakref__', '_cmodel', '_colno', '_safename', '_typeenum', '_typename', 'getAttr', 'index', 'prefetchAttr', 'sameAs', 'setAttr']\n",
            "tables ['BarX', 'BranchPriority', 'IISLB', 'IISLBForce', 'IISUB', 'IISUBForce', 'LB', 'Obj', 'ObjN', 'PStart', 'PWLObjCvx', 'Partition', 'PoolIgnore', 'PreFixVal', 'RC', 'SALBLow', 'SALBUp', 'SAObjLow', 'SAObjUp', 'SAUBLow', 'SAUBUp', 'ScenNLB', 'ScenNObj', 'ScenNUB', 'ScenNX', 'Start', 'UB', 'UnbdRay', 'VBasis', 'VDualNorm', 'VTag', 'VType', 'VarHintPri', 'VarHintVal', 'VarName', 'VarPreStat', 'X', 'Xn', '__add__', '__cindex__', '__class__', '__delattr__', '__dict__', '__dir__', '__div__', '__doc__', '__eq__', '__format__', '__ge__', '__getattr__', '__getattribute__', '__gt__', '__hash__', '__iadd__', '__imul__', '__init__', '__init_subclass__', '__isub__', '__le__', '__lt__', '__module__', '__mul__', '__ne__', '__neg__', '__new__', '__numcols__', '__pow__', '__radd__', '__reduce__', '__reduce_ex__', '__repr__', '__rmul__', '__rsub__', '__setattr__', '__sizeof__', '__str__', '__sub__', '__subclasshook__', '__truediv__', '__weakref__', '_cmodel', '_colno', '_safename', '_typeenum', '_typename', 'getAttr', 'index', 'prefetchAttr', 'sameAs', 'setAttr']\n"
          ]
        }
      ]
    },
    {
      "cell_type": "code",
      "source": [],
      "metadata": {
        "id": "yPw4URraGoFU"
      },
      "execution_count": null,
      "outputs": []
    }
  ]
}